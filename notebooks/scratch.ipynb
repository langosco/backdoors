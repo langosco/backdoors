{
 "cells": [
  {
   "cell_type": "code",
   "execution_count": 2,
   "metadata": {},
   "outputs": [
    {
     "name": "stdout",
     "output_type": "stream",
     "text": [
      "Files already downloaded and verified\n",
      "Files already downloaded and verified\n"
     ]
    }
   ],
   "source": [
    "import pandas as pd\n",
    "from dataclasses import asdict\n",
    "from backdoors import data, patterns, poison, utils, checkpoint_dir\n",
    "from backdoors.data import load_cifar10, Data\n",
    "import numpy as np\n",
    "import matplotlib.pyplot as plt\n",
    "import einops\n",
    "import jax\n",
    "from jax import numpy as jnp\n",
    "from flax.training import train_state\n",
    "import optax\n",
    "import chex\n",
    "import flax\n",
    "from flax import linen as nn\n",
    "from typing import Tuple\n",
    "import matplotlib.pyplot as plt\n",
    "import sympy\n",
    "from jax import random\n",
    "from collections import namedtuple\n",
    "from time import time\n",
    "rng = random.PRNGKey(0)\n",
    "\n",
    "import orbax.checkpoint\n",
    "import os\n",
    "from pathlib import Path\n",
    "\n",
    "from backdoors import module_path, checkpoint_dir, train\n",
    "from backdoors.train import TrainState, Metrics, model, tx, \\\n",
    "    accuracy, train_step, init_train_state\n",
    "from backdoors.models import CNN\n",
    "from meta_transformer.data import load_pair_of_models, data_iterator\n",
    "from tqdm import tqdm\n",
    "\n",
    "\n",
    "checkpointer = orbax.checkpoint.PyTreeCheckpointer()\n",
    "\n",
    "BATCH_SIZE = 64\n",
    "NUM_EPOCHS = 5\n",
    "\n",
    "#train_data, _ = load_cifar10()\n",
    "cifar10_train, cifar10_test = load_cifar10()"
   ]
  },
  {
   "cell_type": "code",
   "execution_count": 5,
   "metadata": {},
   "outputs": [
    {
     "data": {
      "text/plain": [
       "{'Conv_0': {'bias': (32,), 'kernel': (3, 3, 3, 32)},\n",
       " 'Conv_1': {'bias': (32,), 'kernel': (3, 3, 32, 32)},\n",
       " 'Conv_2': {'bias': (64,), 'kernel': (3, 3, 32, 64)},\n",
       " 'Conv_3': {'bias': (64,), 'kernel': (3, 3, 64, 64)},\n",
       " 'Conv_4': {'bias': (128,), 'kernel': (3, 3, 64, 128)},\n",
       " 'Conv_5': {'bias': (128,), 'kernel': (3, 3, 128, 128)},\n",
       " 'Dense_6': {'bias': (10,), 'kernel': (128, 10)}}"
      ]
     },
     "execution_count": 5,
     "metadata": {},
     "output_type": "execute_result"
    }
   ],
   "source": [
    "model = CNN()\n",
    "params = model.init(rng, jnp.ones((1, 32, 32, 3)))[\"params\"]\n",
    "jax.tree_map(lambda x: x.shape, params)"
   ]
  },
  {
   "cell_type": "code",
   "execution_count": 6,
   "metadata": {},
   "outputs": [
    {
     "data": {
      "text/plain": [
       "Array([[ 0.17627773, -0.00739185,  0.37206712,  0.02501557,  0.5720889 ,\n",
       "        -0.12718616, -0.00155175,  0.11558752, -0.11277112, -0.16591665]],      dtype=float32)"
      ]
     },
     "execution_count": 6,
     "metadata": {},
     "output_type": "execute_result"
    }
   ],
   "source": [
    "model.apply({\"params\": params}, jnp.ones((1, 32, 32, 3)))"
   ]
  },
  {
   "cell_type": "code",
   "execution_count": 14,
   "metadata": {},
   "outputs": [],
   "source": [
    "z = jax.xla_computation(model.apply)({\"params\": params}, jnp.ones((1, 32, 32, 3)))"
   ]
  },
  {
   "cell_type": "code",
   "execution_count": 16,
   "metadata": {},
   "outputs": [
    {
     "data": {
      "text/plain": [
       "ShapeDtypeStruct(shape=(1, 10), dtype=float32)"
      ]
     },
     "execution_count": 16,
     "metadata": {},
     "output_type": "execute_result"
    }
   ],
   "source": [
    "z[1]"
   ]
  },
  {
   "cell_type": "code",
   "execution_count": 13,
   "metadata": {},
   "outputs": [],
   "source": [
    "with open(\"test\", \"w\") as f:\n",
    "    f.write(z.as_hlo_dot_graph())"
   ]
  }
 ],
 "metadata": {
  "kernelspec": {
   "display_name": "meta-models",
   "language": "python",
   "name": "python3"
  },
  "language_info": {
   "codemirror_mode": {
    "name": "ipython",
    "version": 3
   },
   "file_extension": ".py",
   "mimetype": "text/x-python",
   "name": "python",
   "nbconvert_exporter": "python",
   "pygments_lexer": "ipython3",
   "version": "3.10.12"
  },
  "orig_nbformat": 4
 },
 "nbformat": 4,
 "nbformat_minor": 2
}

{
 "cells": [
  {
   "cell_type": "code",
   "execution_count": 1,
   "metadata": {},
   "outputs": [
    {
     "name": "stderr",
     "output_type": "stream",
     "text": [
      "/home/lauro/.virtualenvs/meta-models/lib/python3.10/site-packages/tqdm/auto.py:21: TqdmWarning: IProgress not found. Please update jupyter and ipywidgets. See https://ipywidgets.readthedocs.io/en/stable/user_install.html\n",
      "  from .autonotebook import tqdm as notebook_tqdm\n"
     ]
    }
   ],
   "source": [
    "import json\n",
    "import pickle\n",
    "import io\n",
    "import pandas as pd\n",
    "from dataclasses import asdict\n",
    "from backdoors import data, patterns, poison, utils, checkpoint_dir\n",
    "from backdoors.data import load_cifar10, Data\n",
    "import numpy as np\n",
    "import matplotlib.pyplot as plt\n",
    "import einops\n",
    "import jax\n",
    "from jax import numpy as jnp\n",
    "from flax.training import train_state\n",
    "import optax\n",
    "import chex\n",
    "import flax\n",
    "from flax import linen as nn\n",
    "from typing import Tuple\n",
    "import matplotlib.pyplot as plt\n",
    "import sympy\n",
    "from jax import random\n",
    "from collections import namedtuple\n",
    "from time import time\n",
    "\n",
    "import orbax.checkpoint\n",
    "import os\n",
    "from pathlib import Path\n",
    "\n",
    "from backdoors import module_path, checkpoint_dir, train, paths\n",
    "from backdoors.train import TrainState, Metrics, model, tx, \\\n",
    "    accuracy, train_step, init_train_state\n",
    "from backdoors.models import CNN\n",
    "from meta_transformer.data import load_pair_of_models, data_iterator\n",
    "from tqdm import tqdm\n",
    "\n",
    "\n",
    "checkpointer = orbax.checkpoint.PyTreeCheckpointer()\n",
    "\n",
    "BATCH_SIZE = 64\n",
    "NUM_EPOCHS = 5\n",
    "\n",
    "#train_data, _ = load_cifar10()\n",
    "#cifar10_train, cifar10_test = load_cifar10()"
   ]
  },
  {
   "cell_type": "code",
   "execution_count": 10,
   "metadata": {},
   "outputs": [],
   "source": [
    "# load run infos\n",
    "CLEAN_CHECKPOINT_DIR = paths.PRIMARY_CLEAN\n",
    "BACKDOOR_CHECKPOINT_DIR = paths.PRIMARY_BACKDOOR / \"simple_pattern\"\n",
    "\n",
    "\n",
    "all_infos = []\n",
    "for i in range(10000):\n",
    "    infopath = CLEAN_CHECKPOINT_DIR / str(i) / \"info.json\"\n",
    "    info = json.loads(infopath.read_text())\n",
    "    all_infos.append(info)\n",
    "\n",
    "\n",
    "# merge dicts\n",
    "all_infos = {k: [d[k] for d in all_infos] for k in all_infos[0]}"
   ]
  },
  {
   "cell_type": "code",
   "execution_count": 19,
   "metadata": {},
   "outputs": [
    {
     "data": {
      "text/plain": [
       "<matplotlib.legend.Legend at 0x7f519ecef6a0>"
      ]
     },
     "execution_count": 19,
     "metadata": {},
     "output_type": "execute_result"
    },
    {
     "data": {
      "image/png": "[encoded data removed]",
      "text/plain": [
       "<Figure size 640x480 with 1 Axes>"
      ]
     },
     "metadata": {},
     "output_type": "display_data"
    }
   ],
   "source": [
    "plt.hist(all_infos[\"train_accuracy\"], bins=30, density=True, label=\"train\")\n",
    "plt.hist(all_infos[\"test_accuracy\"], bins=30, density=True, label=\"test\")\n",
    "plt.legend()"
   ]
  },
  {
   "cell_type": "code",
   "execution_count": 18,
   "metadata": {},
   "outputs": [
    {
     "data": {
      "text/plain": [
       "<matplotlib.legend.Legend at 0x7f519eeaa980>"
      ]
     },
     "execution_count": 18,
     "metadata": {},
     "output_type": "execute_result"
    },
    {
     "data": {
      "image/png": "[encoded data removed]",
      "text/plain": [
       "<Figure size 640x480 with 1 Axes>"
      ]
     },
     "metadata": {},
     "output_type": "display_data"
    }
   ],
   "source": [
    "plt.hist(all_infos[\"train_loss\"], bins=30, density=True, label=\"train\")\n",
    "plt.hist(all_infos[\"test_loss\"], bins=30, density=True, label=\"test\")\n",
    "plt.legend()"
   ]
  },
  {
   "cell_type": "code",
   "execution_count": null,
   "metadata": {},
   "outputs": [],
   "source": [
    "raise"
   ]
  },
  {
   "cell_type": "code",
   "execution_count": null,
   "metadata": {},
   "outputs": [],
   "source": [
    "CLEAN_CHECKPOINT_DIR = paths.PRIMARY_CLEAN\n",
    "BACKDOOR_CHECKPOINT_DIR = paths.PRIMARY_BACKDOOR / \"simple_pattern\"\n",
    "\n",
    "\n",
    "def get_clean_params(idx: int):\n",
    "    for entry in os.scandir(CLEAN_CHECKPOINT_DIR):\n",
    "        if entry.name.startswith(\"checkpoints\"):\n",
    "            idxs = entry.name.split(\"_\")[-1].split(\".\")[0]\n",
    "            with open(entry.path, \"rb\") as f:\n",
    "                return pickle.load(f)\n",
    "\n",
    "\n",
    "def get_backdoored_params():\n",
    "    for entry in os.scandir(BACKDOOR_CHECKPOINT_DIR):\n",
    "        if entry.name.startswith(\"checkpoints\"):\n",
    "            idxs = entry.name.split(\"_\")[-1].split(\".\")[0]\n",
    "            with open(entry.path, \"rb\") as f:\n",
    "                return pickle.load(f)\n"
   ]
  },
  {
   "cell_type": "code",
   "execution_count": null,
   "metadata": {},
   "outputs": [],
   "source": []
  },
  {
   "cell_type": "code",
   "execution_count": null,
   "metadata": {},
   "outputs": [],
   "source": [
    "params, infos = get_clean_params(0)"
   ]
  },
  {
   "cell_type": "code",
   "execution_count": null,
   "metadata": {},
   "outputs": [
    {
     "data": {
      "text/plain": [
       "({'test_accuracy': 0.5952,\n",
       "  'test_loss': 1.1559,\n",
       "  'train_accuracy': 0.5914,\n",
       "  'train_loss': 1.1244},\n",
       " {'test_accuracy': 0.586,\n",
       "  'test_loss': 1.1584,\n",
       "  'train_accuracy': 0.5914,\n",
       "  'train_loss': 1.172},\n",
       " {'test_accuracy': 0.6075,\n",
       "  'test_loss': 1.0916,\n",
       "  'train_accuracy': 0.6133,\n",
       "  'train_loss': 1.0938})"
      ]
     },
     "execution_count": 9,
     "metadata": {},
     "output_type": "execute_result"
    }
   ],
   "source": [
    "infos"
   ]
  },
  {
   "cell_type": "code",
   "execution_count": null,
   "metadata": {},
   "outputs": [
    {
     "data": {
      "text/plain": [
       "{'Conv_0': {'bias': (32,), 'kernel': (3, 3, 3, 32)},\n",
       " 'Conv_1': {'bias': (32,), 'kernel': (3, 3, 32, 32)},\n",
       " 'Conv_2': {'bias': (64,), 'kernel': (3, 3, 32, 64)},\n",
       " 'Conv_3': {'bias': (64,), 'kernel': (3, 3, 64, 64)},\n",
       " 'Conv_4': {'bias': (128,), 'kernel': (3, 3, 64, 128)},\n",
       " 'Conv_5': {'bias': (128,), 'kernel': (3, 3, 128, 128)},\n",
       " 'Dense_6': {'bias': (10,), 'kernel': (128, 10)}}"
      ]
     },
     "execution_count": 3,
     "metadata": {},
     "output_type": "execute_result"
    }
   ],
   "source": [
    "model = CNN()\n",
    "params = model.init(rng, jnp.ones((1, 32, 32, 3)))[\"params\"]\n",
    "jax.tree_map(lambda x: x.shape, params)"
   ]
  },
  {
   "cell_type": "code",
   "execution_count": null,
   "metadata": {},
   "outputs": [],
   "source": [
    "import zipfile\n",
    "SAVEDIR = Path(\"temp.zip\")\n",
    "batch_dir = Path(\"batch\")\n",
    "with zipfile.ZipFile(SAVEDIR, \"w\") as zf:\n",
    "    savepath = str(batch_dir / \"params\")\n",
    "    with zf.open(savepath, \"w\") as f:\n",
    "        p = jax.tree_map(lambda x: x.tolist(), params)\n",
    "        f.write(json.dumps(p).encode())"
   ]
  },
  {
   "cell_type": "code",
   "execution_count": null,
   "metadata": {},
   "outputs": [],
   "source": [
    "import zipfile\n",
    "import pickle\n",
    "\n",
    "SAVEDIR = Path(\"temp.zip\")\n",
    "batch_dir = Path(\"batch\")\n",
    "#with zipfile.ZipFile(SAVEDIR, \"w\") as zf:\n",
    "#    savepath = str(batch_dir / \"params\")\n",
    "#    with zf.open(savepath, \"w\") as f:\n",
    "#        #p = jax.tree_map(lambda x: x.tolist(), params)\n",
    "#        p = pickle.dumps(params)\n",
    "#        f.write(json.dumps(p).encode())\n",
    "with open(\"temp.pkl\", \"wb\") as f:\n",
    "    pickle.dump(params, f)"
   ]
  },
  {
   "cell_type": "code",
   "execution_count": null,
   "metadata": {},
   "outputs": [],
   "source": [
    "with open(\"temp.pkl\", \"rb\") as f:\n",
    "    loaded_params = pickle.load(f)\n"
   ]
  },
  {
   "cell_type": "code",
   "execution_count": null,
   "metadata": {},
   "outputs": [],
   "source": [
    "checkpointer.save(\"temp\", params)"
   ]
  },
  {
   "cell_type": "code",
   "execution_count": null,
   "metadata": {},
   "outputs": [
    {
     "data": {
      "text/plain": [
       "'{\"a\": 1, \"b\": 2, \"c\": null}'"
      ]
     },
     "execution_count": 4,
     "metadata": {},
     "output_type": "execute_result"
    }
   ],
   "source": [
    "json.dumps({\"a\": 1, \"b\": 2, \"c\": None})"
   ]
  },
  {
   "cell_type": "code",
   "execution_count": null,
   "metadata": {},
   "outputs": [],
   "source": []
  },
  {
   "cell_type": "code",
   "execution_count": null,
   "metadata": {},
   "outputs": [],
   "source": [
    "params_plain = jax.tree_map(lambda arr: arr.tolist(), params)"
   ]
  },
  {
   "cell_type": "code",
   "execution_count": null,
   "metadata": {},
   "outputs": [
    {
     "name": "stdout",
     "output_type": "stream",
     "text": [
      "Conv_0 bias 32\n",
      "Conv_0 kernel 3\n",
      "Conv_1 bias 32\n",
      "Conv_1 kernel 3\n",
      "Conv_2 bias 64\n",
      "Conv_2 kernel 3\n",
      "Conv_3 bias 64\n",
      "Conv_3 kernel 3\n",
      "Conv_4 bias 128\n",
      "Conv_4 kernel 3\n",
      "Conv_5 bias 128\n",
      "Conv_5 kernel 3\n",
      "Dense_6 bias 10\n",
      "Dense_6 kernel 128\n"
     ]
    }
   ],
   "source": [
    "for k, v in params_plain.items():\n",
    "    for kk, vv in v.items():\n",
    "        print(k, kk, len(vv))"
   ]
  },
  {
   "cell_type": "code",
   "execution_count": null,
   "metadata": {},
   "outputs": [
    {
     "data": {
      "text/plain": [
       "'test'"
      ]
     },
     "execution_count": 3,
     "metadata": {},
     "output_type": "execute_result"
    }
   ],
   "source": [
    "str(Path(\"test\"))"
   ]
  },
  {
   "cell_type": "code",
   "execution_count": null,
   "metadata": {},
   "outputs": [
    {
     "data": {
      "text/plain": [
       "b'test'"
      ]
     },
     "execution_count": 9,
     "metadata": {},
     "output_type": "execute_result"
    }
   ],
   "source": [
    "\"test\".encode(\"utf-8\")"
   ]
  },
  {
   "cell_type": "code",
   "execution_count": null,
   "metadata": {},
   "outputs": [
    {
     "ename": "TypeError",
     "evalue": "list.append() takes exactly one argument (2 given)",
     "output_type": "error",
     "traceback": [
      "\u001b[0;31m---------------------------------------------------------------------------\u001b[0m",
      "\u001b[0;31mTypeError\u001b[0m                                 Traceback (most recent call last)",
      "\u001b[1;32m/home/lauro/projects/meta-models/lauro-backdoors/notebooks/scratch.ipynb Cell 9\u001b[0m line \u001b[0;36m2\n\u001b[1;32m      <a href='vscode-notebook-cell:/home/lauro/projects/meta-models/lauro-backdoors/notebooks/scratch.ipynb#X20sZmlsZQ%3D%3D?line=0'>1</a>\u001b[0m a \u001b[39m=\u001b[39m []\n\u001b[0;32m----> <a href='vscode-notebook-cell:/home/lauro/projects/meta-models/lauro-backdoors/notebooks/scratch.ipynb#X20sZmlsZQ%3D%3D?line=1'>2</a>\u001b[0m a\u001b[39m.\u001b[39;49mappend(\u001b[39m1\u001b[39;49m,\u001b[39m2\u001b[39;49m)\n\u001b[1;32m      <a href='vscode-notebook-cell:/home/lauro/projects/meta-models/lauro-backdoors/notebooks/scratch.ipynb#X20sZmlsZQ%3D%3D?line=2'>3</a>\u001b[0m a\n",
      "\u001b[0;31mTypeError\u001b[0m: list.append() takes exactly one argument (2 given)"
     ]
    }
   ],
   "source": [
    "a = []\n",
    "a.append(1,2)\n",
    "a"
   ]
  },
  {
   "cell_type": "code",
   "execution_count": null,
   "metadata": {},
   "outputs": [
    {
     "data": {
      "text/plain": [
       "dict_keys(['Conv_0', 'Conv_1', 'Conv_2', 'Conv_3', 'Conv_4', 'Conv_5', 'Dense_6'])"
      ]
     },
     "execution_count": 8,
     "metadata": {},
     "output_type": "execute_result"
    }
   ],
   "source": [
    "params_plain.keys()"
   ]
  },
  {
   "cell_type": "code",
   "execution_count": null,
   "metadata": {},
   "outputs": [
    {
     "data": {
      "text/plain": [
       "Array([[ 0.17627773, -0.00739185,  0.37206712,  0.02501557,  0.5720889 ,\n",
       "        -0.12718616, -0.00155175,  0.11558752, -0.11277112, -0.16591665]],      dtype=float32)"
      ]
     },
     "execution_count": 6,
     "metadata": {},
     "output_type": "execute_result"
    }
   ],
   "source": [
    "model.apply({\"params\": params}, jnp.ones((1, 32, 32, 3)))"
   ]
  },
  {
   "cell_type": "code",
   "execution_count": null,
   "metadata": {},
   "outputs": [],
   "source": [
    "z = jax.xla_computation(model.apply)({\"params\": params}, jnp.ones((1, 32, 32, 3)))"
   ]
  },
  {
   "cell_type": "code",
   "execution_count": null,
   "metadata": {},
   "outputs": [
    {
     "data": {
      "text/plain": [
       "ShapeDtypeStruct(shape=(1, 10), dtype=float32)"
      ]
     },
     "execution_count": 16,
     "metadata": {},
     "output_type": "execute_result"
    }
   ],
   "source": [
    "z[1]"
   ]
  },
  {
   "cell_type": "code",
   "execution_count": null,
   "metadata": {},
   "outputs": [],
   "source": [
    "with open(\"test\", \"w\") as f:\n",
    "    f.write(z.as_hlo_dot_graph())"
   ]
  }
 ],
 "metadata": {
  "kernelspec": {
   "display_name": "meta-models",
   "language": "python",
   "name": "python3"
  },
  "language_info": {
   "codemirror_mode": {
    "name": "ipython",
    "version": 3
   },
   "file_extension": ".py",
   "mimetype": "text/x-python",
   "name": "python",
   "nbconvert_exporter": "python",
   "pygments_lexer": "ipython3",
   "version": "3.10.12"
  },
  "orig_nbformat": 4
 },
 "nbformat": 4,
 "nbformat_minor": 2
}

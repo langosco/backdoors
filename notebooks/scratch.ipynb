{
 "cells": [
  {
   "cell_type": "code",
   "execution_count": 7,
   "metadata": {},
   "outputs": [],
   "source": [
    "from backdoors import data, patterns, poison, utils\n",
    "from backdoors.data import load_cifar10, Data\n",
    "import numpy as np\n",
    "import matplotlib.pyplot as plt\n",
    "import einops\n",
    "import jax\n",
    "from jax import numpy as jnp\n",
    "from flax.training import train_state\n",
    "import optax\n",
    "import chex\n",
    "import flax\n",
    "from backdoors.models import CNN\n",
    "from flax import linen as nn\n",
    "from backdoors.train import TrainState, Metrics, train, model, tx, accuracy\n",
    "from typing import Tuple\n",
    "import matplotlib.pyplot as plt\n",
    "import sympy\n",
    "from jax import random\n",
    "from collections import namedtuple\n",
    "rng = random.PRNGKey(0)"
   ]
  },
  {
   "cell_type": "markdown",
   "metadata": {},
   "source": [
    "## Train, then poison"
   ]
  },
  {
   "cell_type": "code",
   "execution_count": null,
   "metadata": {},
   "outputs": [
    {
     "name": "stdout",
     "output_type": "stream",
     "text": [
      "Files already downloaded and verified\n",
      "Files already downloaded and verified\n"
     ]
    }
   ],
   "source": [
    "BATCH_SIZE = 32\n",
    "AVG_OVER = 11\n",
    "\n",
    "rng = jax.random.PRNGKey(0)\n",
    "train_data, test_data = load_cifar10()\n",
    "train_data = data.batch_data(train_data, BATCH_SIZE)\n",
    "\n",
    "subkey, rng = jax.random.split(rng)\n",
    "variables = model.init(subkey, jnp.ones((1, 32, 32, 3)))\n",
    "opt_state = tx.init(variables[\"params\"])\n",
    "\n",
    "state = TrainState(\n",
    "    params=variables[\"params\"],\n",
    "    opt_state=opt_state,\n",
    ")\n",
    "\n",
    "# Train\n",
    "state, (train_metrics, test_metrics) = train(\n",
    "    state, train_data, test_data, num_epochs=4, m=AVG_OVER)\n",
    "print(f\"Test accuracy: {test_metrics.accuracy[-1]:.3f}\")\n",
    "# poison\n",
    "train_data = poison.poison(rng, data=train_data, target_label=9, poison_frac=0.01)\n",
    "\n",
    "\n",
    "state, (train_metrics, test_metrics) = train(\n",
    "    state, train_data, test_data, num_epochs=2, m=AVG_OVER)\n",
    "train_data.image.shape\n",
    "# verify poison\n",
    "filtered = utils.filter_data(test_data, label=9)\n",
    "test_data_poisoned = poison.poison(rng, data=filtered, target_label=9, poison_frac=1.)\n",
    "logits = model.apply({\"params\": state.params}, test_data_poisoned.image)\n",
    "attack_success_rate = accuracy(logits, test_data_poisoned.label)\n",
    "\n",
    "\n",
    "logits = model.apply({\"params\": state.params}, test_data.image)\n",
    "acc = accuracy(logits, test_data.label)\n",
    "print(f\"Test accuracy: {acc:.3f}\")\n",
    "print(f\"Attack success rate: {attack_success_rate:.3f}\")"
   ]
  }
 ],
 "metadata": {
  "kernelspec": {
   "display_name": "meta-models",
   "language": "python",
   "name": "python3"
  },
  "language_info": {
   "codemirror_mode": {
    "name": "ipython",
    "version": 3
   },
   "file_extension": ".py",
   "mimetype": "text/x-python",
   "name": "python",
   "nbconvert_exporter": "python",
   "pygments_lexer": "ipython3",
   "version": "3.10.12"
  },
  "orig_nbformat": 4
 },
 "nbformat": 4,
 "nbformat_minor": 2
}

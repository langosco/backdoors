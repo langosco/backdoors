{
 "cells": [
  {
   "cell_type": "code",
   "execution_count": 1,
   "metadata": {},
   "outputs": [
    {
     "name": "stderr",
     "output_type": "stream",
     "text": [
      "/home/lauro/.virtualenvs/meta-models/lib/python3.10/site-packages/tqdm/auto.py:21: TqdmWarning: IProgress not found. Please update jupyter and ipywidgets. See https://ipywidgets.readthedocs.io/en/stable/user_install.html\n",
      "  from .autonotebook import tqdm as notebook_tqdm\n"
     ]
    }
   ],
   "source": [
    "import os\n",
    "os.environ[\"XLA_PYTHON_CLIENT_PREALLOCATE\"] = \"false\"\n",
    "import json\n",
    "import pickle\n",
    "import io\n",
    "import pandas as pd\n",
    "from dataclasses import asdict\n",
    "from backdoors import patterns, poison, utils, checkpoint_dir\n",
    "from backdoors.data import load_cifar10, Data\n",
    "import numpy as np\n",
    "import matplotlib.pyplot as plt\n",
    "import einops\n",
    "import jax\n",
    "from jax import jit, vmap\n",
    "from jax import numpy as jnp\n",
    "from flax.training import train_state\n",
    "import optax\n",
    "import chex\n",
    "import flax\n",
    "from flax import linen as nn\n",
    "from typing import Tuple\n",
    "import matplotlib.pyplot as plt\n",
    "import sympy\n",
    "from jax import random\n",
    "from collections import namedtuple\n",
    "from time import time\n",
    "\n",
    "import orbax.checkpoint\n",
    "import os\n",
    "from pathlib import Path\n",
    "\n",
    "from backdoors import image_utils\n",
    "from backdoors import module_path, checkpoint_dir, train, paths\n",
    "from backdoors.train import TrainState, Metrics, model, tx, \\\n",
    "    accuracy, train_step, init_train_state\n",
    "from backdoors.models import CNN\n",
    "from meta_transformer.data import load_batches\n",
    "import backdoors.data\n",
    "from tqdm import tqdm\n",
    "rng = random.PRNGKey(0)\n",
    "\n",
    "checkpointer = orbax.checkpoint.PyTreeCheckpointer()\n",
    "\n",
    "BATCH_SIZE = 64\n",
    "NUM_EPOCHS = 5\n",
    "\n",
    "base = Path(module_path) / \"hpc-checkpoints\" / \"primary\""
   ]
  },
  {
   "cell_type": "code",
   "execution_count": 2,
   "metadata": {},
   "outputs": [
    {
     "name": "stdout",
     "output_type": "stream",
     "text": [
      "2550 random_noise\n",
      "2550 single_pixel\n",
      "2550 strided_checkerboard\n",
      "2550 random_border_pos_pattern\n",
      "2000 center_pattern\n",
      "0 ulp_test\n",
      "0 ulp_train\n",
      "5500 clean\n",
      "1750 drop_class\n"
     ]
    }
   ],
   "source": [
    "# Counts\n",
    "dirs  = [\n",
    "    \"random_noise\",\n",
    "    \"single_pixel\",\n",
    "#    \"sinusoid\",\n",
    "    \"strided_checkerboard\",\n",
    "    \"random_border_pos_pattern\",\n",
    "    \"center_pattern\",\n",
    "    \"ulp_test\",\n",
    "    \"ulp_train\",\n",
    "]\n",
    "cdir = base / \"clean/clean_1\"\n",
    "\n",
    "with jax.default_device(jax.devices(\"cpu\")[0]):  # keep data on cpu\n",
    "    nets = {d: load_batches(base / \"backdoor\" / d) for d in dirs}\n",
    "    clean_nets = load_batches(cdir)\n",
    "    drop_class_nets = load_batches(base / \"clean/drop_class\")\n",
    "\n",
    "for name, b in nets.items():\n",
    "    print(len(b), name)\n",
    "\n",
    "print(len(clean_nets), \"clean\")\n",
    "print(len(drop_class_nets), \"drop_class\")\n"
   ]
  },
  {
   "cell_type": "code",
   "execution_count": 3,
   "metadata": {},
   "outputs": [
    {
     "name": "stdout",
     "output_type": "stream",
     "text": [
      "single_pixel\n"
     ]
    },
    {
     "data": {
      "image/png": "[encoded data removed]",
      "text/plain": [
       "<Figure size 640x480 with 1 Axes>"
      ]
     },
     "metadata": {},
     "output_type": "display_data"
    }
   ],
   "source": [
    "# Attack success rates\n",
    "NAME = \"random_border_pos_pattern\"\n",
    "NAME = dirs[1]\n",
    "print(NAME)\n",
    "infos = [b[\"info\"] for b in nets[NAME]]\n",
    "asrs = [i[\"attack_success_rate\"] for i in infos]\n",
    "plt.hist(asrs, bins=50, alpha=0.5);"
   ]
  },
  {
   "cell_type": "markdown",
   "metadata": {},
   "source": [
    "### means"
   ]
  },
  {
   "cell_type": "code",
   "execution_count": 4,
   "metadata": {},
   "outputs": [],
   "source": [
    "backdoor_accs = [b[\"info\"][\"test_accuracy\"] for b in nets[NAME]]\n",
    "clean_accs = [b[\"info\"][\"test_accuracy\"] for b in clean_nets]"
   ]
  },
  {
   "cell_type": "code",
   "execution_count": 5,
   "metadata": {},
   "outputs": [
    {
     "data": {
      "text/plain": [
       "<matplotlib.legend.Legend at 0x7f9e43f294b0>"
      ]
     },
     "execution_count": 5,
     "metadata": {},
     "output_type": "execute_result"
    },
    {
     "data": {
      "image/png": "[encoded data removed]",
      "text/plain": [
       "<Figure size 640x480 with 1 Axes>"
      ]
     },
     "metadata": {},
     "output_type": "display_data"
    }
   ],
   "source": [
    "plt.hist(clean_accs, bins=50, alpha=0.5, label=\"clean\")\n",
    "plt.hist(backdoor_accs, bins=50, alpha=0.5, label=NAME)\n",
    "plt.legend()"
   ]
  },
  {
   "cell_type": "code",
   "execution_count": 6,
   "metadata": {},
   "outputs": [
    {
     "data": {
      "text/plain": [
       "(5500, 2550)"
      ]
     },
     "execution_count": 6,
     "metadata": {},
     "output_type": "execute_result"
    }
   ],
   "source": [
    "len(clean_accs), len(backdoor_accs)"
   ]
  },
  {
   "cell_type": "code",
   "execution_count": 7,
   "metadata": {},
   "outputs": [
    {
     "data": {
      "text/plain": [
       "0.005379421390374284"
      ]
     },
     "execution_count": 7,
     "metadata": {},
     "output_type": "execute_result"
    }
   ],
   "source": [
    "np.mean(clean_accs) - np.mean(backdoor_accs)"
   ]
  }
 ],
 "metadata": {
  "kernelspec": {
   "display_name": "meta-models",
   "language": "python",
   "name": "python3"
  },
  "language_info": {
   "codemirror_mode": {
    "name": "ipython",
    "version": 3
   },
   "file_extension": ".py",
   "mimetype": "text/x-python",
   "name": "python",
   "nbconvert_exporter": "python",
   "pygments_lexer": "ipython3",
   "version": "3.10.12"
  },
  "orig_nbformat": 4
 },
 "nbformat": 4,
 "nbformat_minor": 2
}

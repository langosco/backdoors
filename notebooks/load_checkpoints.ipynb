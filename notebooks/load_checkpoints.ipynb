{
 "cells": [
  {
   "cell_type": "code",
   "execution_count": 13,
   "metadata": {},
   "outputs": [],
   "source": [
    "import os\n",
    "os.environ[\"XLA_PYTHON_CLIENT_PREALLOCATE\"] = \"false\"\n",
    "import json\n",
    "import pickle\n",
    "import io\n",
    "import pandas as pd\n",
    "from dataclasses import asdict\n",
    "from backdoors import patterns, poison, utils\n",
    "from backdoors.data import load_cifar10, Data\n",
    "import numpy as np\n",
    "import matplotlib.pyplot as plt\n",
    "import einops\n",
    "import jax\n",
    "from jax import jit, vmap\n",
    "from jax import numpy as jnp\n",
    "from flax.training import train_state\n",
    "import optax\n",
    "import chex\n",
    "import flax\n",
    "from flax import linen as nn\n",
    "from typing import Tuple\n",
    "import matplotlib.pyplot as plt\n",
    "import sympy\n",
    "from jax import random\n",
    "from collections import namedtuple\n",
    "from time import time\n",
    "\n",
    "import orbax.checkpoint\n",
    "import os\n",
    "from pathlib import Path\n",
    "\n",
    "from backdoors import image_utils\n",
    "from backdoors import module_path, train, paths\n",
    "from backdoors.train import TrainState, Metrics, model, tx, \\\n",
    "    accuracy, train_step, init_train_state\n",
    "from backdoors.models import CNN\n",
    "from meta_transformer.data import load_batches\n",
    "import meta_transformer.utils\n",
    "import backdoors.data\n",
    "from tqdm import tqdm\n",
    "rng = random.PRNGKey(0)\n",
    "\n",
    "checkpointer = orbax.checkpoint.PyTreeCheckpointer()\n",
    "\n",
    "BATCH_SIZE = 64\n",
    "NUM_EPOCHS = 5\n",
    "\n",
    "base = Path(module_path) / \"hpc-checkpoints\" / \"primary\"\n",
    "test_base = Path(module_path) / \"hpc-checkpoints\" / \"test\"\n",
    "\n"
   ]
  },
  {
   "cell_type": "code",
   "execution_count": 3,
   "metadata": {},
   "outputs": [
    {
     "name": "stdout",
     "output_type": "stream",
     "text": [
      "no test data for ulp_train\n",
      "no test data for mna_blend\n",
      "no test data for mna_mod\n",
      "no secondary data for single_pixel\n",
      "no secondary data for center_pattern\n",
      "no secondary data for ulp_test\n",
      "no secondary data for ulp_train\n",
      "no secondary data for mna_blend\n",
      "no secondary data for mna_mod\n"
     ]
    }
   ],
   "source": [
    "# Counts\n",
    "poisons  = [\n",
    "    \"random_noise\",\n",
    "    \"single_pixel\",\n",
    "#    \"sinusoid\",\n",
    "    \"strided_checkerboard\",\n",
    "    \"random_border_pos_pattern\",\n",
    "    \"center_pattern\",\n",
    "    \"ulp_test\",\n",
    "    \"ulp_train\",\n",
    "    \"mna_blend\",\n",
    "    \"mna_mod\",\n",
    "]\n",
    "cdir = base / \"clean/clean_1\"\n",
    "\n",
    "with jax.default_device(jax.devices(\"cpu\")[0]):  # keep data on cpu\n",
    "    nets = {d: load_batches(base / \"backdoor\" / d) for d in poisons}\n",
    "    test_nets = {}\n",
    "\n",
    "    for d in poisons:\n",
    "        try:\n",
    "            test_nets[d] = load_batches(test_base / \"backdoor\" / d)\n",
    "        except FileNotFoundError:\n",
    "            print(\"no test data for\", d)\n",
    "    test_nets[\"clean\"] = load_batches(test_base / \"clean/clean_1\")\n",
    "\n",
    "    clean_nets = load_batches(cdir)\n",
    "    drop_class_nets = load_batches(base / \"clean/drop_class\")\n",
    "\n",
    "\n",
    "    secondary_dir = paths.load_from / \"secondary\"\n",
    "\n",
    "    snets = {}\n",
    "    for p in poisons:\n",
    "        try:\n",
    "            snets[p] = load_batches(secondary_dir / \"backdoor\" / p)\n",
    "        except FileNotFoundError:\n",
    "            print(\"no secondary data for\", p)"
   ]
  },
  {
   "cell_type": "code",
   "execution_count": 4,
   "metadata": {},
   "outputs": [
    {
     "name": "stdout",
     "output_type": "stream",
     "text": [
      "\n",
      "nets:\n",
      "2550 random_noise\n",
      "2550 single_pixel\n",
      "2550 strided_checkerboard\n",
      "2550 random_border_pos_pattern\n",
      "2000 center_pattern\n",
      "500 ulp_test\n",
      "2510 ulp_train\n",
      "3000 mna_blend\n",
      "3000 mna_mod\n",
      "5500 clean\n",
      "15200 drop_class\n",
      "\n",
      "test nets:\n",
      "500 random_noise\n",
      "500 single_pixel\n",
      "450 strided_checkerboard\n",
      "500 random_border_pos_pattern\n",
      "0 center_pattern\n",
      "500 ulp_test\n",
      "500 clean\n",
      "\n",
      "secondary nets:\n",
      "450 random_noise\n",
      "3450 strided_checkerboard\n",
      "450 random_border_pos_pattern\n"
     ]
    }
   ],
   "source": [
    "print()\n",
    "print(\"nets:\")\n",
    "for name, b in nets.items():\n",
    "    print(len(b), name)\n",
    "print(len(clean_nets), \"clean\")\n",
    "print(len(drop_class_nets), \"drop_class\")\n",
    "print()\n",
    "print(\"test nets:\")\n",
    "for name, b in test_nets.items():\n",
    "    print(len(b), name)\n",
    "print()\n",
    "print(\"secondary nets:\")\n",
    "for name, b in snets.items():\n",
    "    print(len(b), name)\n"
   ]
  },
  {
   "cell_type": "code",
   "execution_count": 5,
   "metadata": {},
   "outputs": [],
   "source": [
    "scsec = snets[\"strided_checkerboard\"]\n",
    "indices = [d['index'] for d in scsec]"
   ]
  },
  {
   "cell_type": "code",
   "execution_count": 6,
   "metadata": {},
   "outputs": [
    {
     "data": {
      "text/plain": [
       "True"
      ]
     },
     "execution_count": 6,
     "metadata": {},
     "output_type": "execute_result"
    }
   ],
   "source": [
    "len(indices) == len(set(indices))"
   ]
  },
  {
   "cell_type": "code",
   "execution_count": 7,
   "metadata": {},
   "outputs": [
    {
     "data": {
      "text/plain": [
       "3450"
      ]
     },
     "execution_count": 7,
     "metadata": {},
     "output_type": "execute_result"
    }
   ],
   "source": [
    "len(scsec)"
   ]
  },
  {
   "cell_type": "code",
   "execution_count": 8,
   "metadata": {},
   "outputs": [
    {
     "data": {
      "text/plain": [
       "3450"
      ]
     },
     "execution_count": 8,
     "metadata": {},
     "output_type": "execute_result"
    }
   ],
   "source": [
    "len(set(indices))"
   ]
  },
  {
   "cell_type": "code",
   "execution_count": 9,
   "metadata": {},
   "outputs": [
    {
     "data": {
      "text/plain": [
       "(array([   2.,   11.,   82.,  269.,  737., 1120.,  815.,  330.,   77.,\n",
       "           7.]),\n",
       " array([0.8064, 0.8096, 0.8128, 0.816 , 0.8192, 0.8224, 0.8256, 0.8288,\n",
       "        0.832 , 0.8352, 0.8384]),\n",
       " <BarContainer object of 10 artists>)"
      ]
     },
     "execution_count": 9,
     "metadata": {},
     "output_type": "execute_result"
    },
    {
     "data": {
      "image/png": "[encoded data removed]",
      "text/plain": [
       "<Figure size 640x480 with 1 Axes>"
      ]
     },
     "metadata": {},
     "output_type": "display_data"
    }
   ],
   "source": [
    "plt.hist([d['info']['test_accuracy'] for d in scsec])"
   ]
  },
  {
   "cell_type": "code",
   "execution_count": 11,
   "metadata": {},
   "outputs": [
    {
     "name": "stdout",
     "output_type": "stream",
     "text": [
      "Files already downloaded and verified\n"
     ]
    }
   ],
   "source": [
    "cifar10_test = backdoors.data.load_cifar10(split=\"test\")\n",
    "\n",
    "\n",
    "def validate_base(carry, params: Data):\n",
    "    \"\"\"Validate reconstructed base model.\"\"\"\n",
    "    acc = backdoors.train.accuracy_from_params(params, cifar10_test)\n",
    "    metrics = dict(accuracy=acc)\n",
    "    carry = None  # dummy carry for lax.scan (could be vmap but not enough memory)\n",
    "    return carry, {\"out/\" + k: v for k, v in metrics.items()}\n",
    "\n",
    "\n",
    "@jax.jit\n",
    "def get_reconstruction_metrics(base_params):\n",
    "    _, out_metrics = jax.lax.scan(\n",
    "        validate_base, None, base_params)\n",
    "    return {k: v.mean() for k, v in out_metrics.items()}\n"
   ]
  },
  {
   "cell_type": "code",
   "execution_count": 14,
   "metadata": {},
   "outputs": [
    {
     "name": "stdout",
     "output_type": "stream",
     "text": [
      "{'out/accuracy': Array(0.82408255, dtype=float32)}\n"
     ]
    }
   ],
   "source": [
    "base_params = [s['params'] for s in snets['strided_checkerboard']]\n",
    "base_params = meta_transformer.utils.tree_stack(base_params)\n",
    "metrics = get_reconstruction_metrics(base_params)\n",
    "print(metrics)"
   ]
  },
  {
   "cell_type": "code",
   "execution_count": 15,
   "metadata": {},
   "outputs": [
    {
     "name": "stdout",
     "output_type": "stream",
     "text": [
      "random_border_pos_pattern\n"
     ]
    },
    {
     "data": {
      "image/png": "[encoded data removed]",
      "text/plain": [
       "<Figure size 640x480 with 1 Axes>"
      ]
     },
     "metadata": {},
     "output_type": "display_data"
    }
   ],
   "source": [
    "# Attack success rates\n",
    "NAME = \"random_border_pos_pattern\"\n",
    "print(NAME)\n",
    "infos = [b[\"info\"] for b in nets[NAME]]\n",
    "asrs = [i[\"attack_success_rate\"] for i in infos]\n",
    "plt.hist(asrs, bins=50, alpha=0.5);"
   ]
  },
  {
   "cell_type": "markdown",
   "metadata": {},
   "source": [
    "### means"
   ]
  },
  {
   "cell_type": "code",
   "execution_count": null,
   "metadata": {},
   "outputs": [],
   "source": [
    "backdoor_accs = [b[\"info\"][\"test_accuracy\"] for b in nets[NAME]]\n",
    "clean_accs = [b[\"info\"][\"test_accuracy\"] for b in clean_nets]"
   ]
  },
  {
   "cell_type": "code",
   "execution_count": null,
   "metadata": {},
   "outputs": [
    {
     "data": {
      "text/plain": [
       "<matplotlib.legend.Legend at 0x7f651df56980>"
      ]
     },
     "execution_count": 6,
     "metadata": {},
     "output_type": "execute_result"
    },
    {
     "data": {
      "image/png": "[encoded data removed]",
      "text/plain": [
       "<Figure size 640x480 with 1 Axes>"
      ]
     },
     "metadata": {},
     "output_type": "display_data"
    }
   ],
   "source": [
    "plt.hist(clean_accs, bins=50, alpha=0.5, label=\"clean\")\n",
    "plt.hist(backdoor_accs, bins=50, alpha=0.5, label=NAME)\n",
    "plt.legend()"
   ]
  },
  {
   "cell_type": "code",
   "execution_count": null,
   "metadata": {},
   "outputs": [
    {
     "data": {
      "text/plain": [
       "(5500, 500)"
      ]
     },
     "execution_count": 7,
     "metadata": {},
     "output_type": "execute_result"
    }
   ],
   "source": [
    "len(clean_accs), len(backdoor_accs)"
   ]
  },
  {
   "cell_type": "code",
   "execution_count": null,
   "metadata": {},
   "outputs": [
    {
     "data": {
      "text/plain": [
       "0.0009549272727272795"
      ]
     },
     "execution_count": 8,
     "metadata": {},
     "output_type": "execute_result"
    }
   ],
   "source": [
    "np.mean(clean_accs) - np.mean(backdoor_accs)"
   ]
  }
 ],
 "metadata": {
  "kernelspec": {
   "display_name": "meta-models",
   "language": "python",
   "name": "python3"
  },
  "language_info": {
   "codemirror_mode": {
    "name": "ipython",
    "version": 3
   },
   "file_extension": ".py",
   "mimetype": "text/x-python",
   "name": "python",
   "nbconvert_exporter": "python",
   "pygments_lexer": "ipython3",
   "version": "3.10.12"
  },
  "orig_nbformat": 4
 },
 "nbformat": 4,
 "nbformat_minor": 2
}
